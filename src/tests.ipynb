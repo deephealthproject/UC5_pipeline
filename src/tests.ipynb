{
 "cells": [
  {
   "cell_type": "code",
   "execution_count": null,
   "metadata": {},
   "outputs": [],
   "source": [
    "import pyecvl.ecvl as ecvl\n",
    "import numpy as np\n",
    "\n",
    "filename = \"../data/image/CXR3714_IM-1856-1001.png\"\n",
    "img = ecvl.ImRead(filename)\n",
    "print(img.channels_)\n",
    "ecvl.ImWrite(\"a.png\", img)\n",
    "augs = ecvl.SequentialAugmentationContainer([\n",
    "                ecvl.AugToFloat32(divisor=255.0),\n",
    "                ecvl.AugNormalize([0.48197903, 0.48197903, 0.48197903], [0.26261734, 0.26261734, 0.26261734]),\n",
    "                ecvl.AugResizeDim([300, 300]),\n",
    "                # ecvl.AugCenterCrop([256, 256]),  # XXX should be parametric, for resnet 18\n",
    "                # ecvl.AugCenterCrop([self.img_size, self.img_size]),  # XXX should be parametric, for resnet 18\n",
    "                # ecvl.AugRandomCrop([self.img_size, self.img_size]),  # XXX should be parametric, for resnet 18\n",
    "                ])\n",
    "\n",
    "augs.Apply(img)\n",
    "a = np.array(img)\n",
    "print(a.shape)\n",
    "a = a * 0.26261734\n",
    "a = a + 0.48197903\n",
    "a = a * 255\n",
    "print(a.shape)\n",
    "img2 = ecvl.Image.fromarray(a, \"xyc\", ecvl.ColorType.RGB)\n",
    "\n",
    "print(np.min(a))\n",
    "print(np.max(a))\n",
    "ecvl.ImWrite(\"b.png\", img2)"
   ]
  },
  {
   "cell_type": "code",
   "execution_count": null,
   "metadata": {},
   "outputs": [],
   "source": []
  }
 ],
 "metadata": {
  "interpreter": {
   "hash": "f8ac5ee7dbd3222b9a621db727279133c0b9b65990c5851472ddfcb34807bcee"
  },
  "kernelspec": {
   "display_name": "Python 3.8.6 ('eddl')",
   "language": "python",
   "name": "python3"
  },
  "language_info": {
   "codemirror_mode": {
    "name": "ipython",
    "version": 3
   },
   "file_extension": ".py",
   "mimetype": "text/x-python",
   "name": "python",
   "nbconvert_exporter": "python",
   "pygments_lexer": "ipython3",
   "version": "3.8.6"
  },
  "orig_nbformat": 4
 },
 "nbformat": 4,
 "nbformat_minor": 2
}
